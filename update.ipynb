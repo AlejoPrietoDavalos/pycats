{
 "cells": [
  {
   "cell_type": "code",
   "execution_count": null,
   "metadata": {},
   "outputs": [],
   "source": [
    "from pycats.cat import Cats\n",
    "from my_cats import get_cats, EPSILON, CURIE, GAUSS\n",
    "cats = get_cats()"
   ]
  },
  {
   "cell_type": "code",
   "execution_count": null,
   "metadata": {},
   "outputs": [],
   "source": [
    "cats[EPSILON]"
   ]
  },
  {
   "cell_type": "code",
   "execution_count": null,
   "metadata": {},
   "outputs": [],
   "source": [
    "cats[CURIE]"
   ]
  },
  {
   "cell_type": "code",
   "execution_count": null,
   "metadata": {},
   "outputs": [],
   "source": [
    "cats[GAUSS]"
   ]
  },
  {
   "cell_type": "code",
   "execution_count": null,
   "metadata": {},
   "outputs": [],
   "source": [
    "import matplotlib.pyplot as plt\n",
    "\n",
    "fig, ax = plt.subplots()\n",
    "COLOR_BACKGROUND = \"#001496\"\n",
    "COLOR_TEXT = \"#0e78e3\"\n",
    "BOLD = \"bold\"\n",
    "\n",
    "for cat in cats.iter_cats():\n",
    "    df = cat.get_df_weights()\n",
    "    ax.plot(df[\"date\"], df[\"weight\"], marker=\"o\", label=cat.name, color=cat.color_hex)\n",
    "\n",
    "ax.set_xlabel(\"date\", color=COLOR_TEXT, fontweight=BOLD)\n",
    "ax.set_ylabel(f\"weight [{cats.unit}]\", color=COLOR_TEXT, fontweight=BOLD)\n",
    "ax.set_title(\"Peso de los gatos en función del tiempo.\", color=COLOR_TEXT, fontweight=BOLD)\n",
    "\n",
    "ax.set_xticks(df[\"date\"])\n",
    "plt.xticks(rotation=45, color=COLOR_TEXT, fontweight=BOLD)\n",
    "plt.yticks(color=COLOR_TEXT, fontweight=BOLD)\n",
    "\n",
    "ax.spines['top'].set_color(COLOR_TEXT)\n",
    "ax.spines['bottom'].set_color(COLOR_TEXT)\n",
    "ax.spines['left'].set_color(COLOR_TEXT)\n",
    "ax.spines['right'].set_color(COLOR_TEXT)\n",
    "\n",
    "ax.legend(facecolor=COLOR_BACKGROUND, edgecolor=COLOR_TEXT, labelcolor=COLOR_TEXT, fontsize='large', prop={'weight': BOLD})\n",
    "\n",
    "fig.patch.set_facecolor(COLOR_BACKGROUND)\n",
    "ax.set_facecolor(COLOR_BACKGROUND)\n",
    "\n",
    "plt.tight_layout()\n",
    "\n",
    "plt.savefig(\"plots/cat_weights.png\")\n",
    "plt.show()\n"
   ]
  },
  {
   "cell_type": "code",
   "execution_count": null,
   "metadata": {},
   "outputs": [],
   "source": [
    "for c in cats.iter_cats():\n",
    "    print(c.anti_parasitic)"
   ]
  },
  {
   "cell_type": "code",
   "execution_count": null,
   "metadata": {},
   "outputs": [],
   "source": [
    "import matplotlib.pyplot as plt\n",
    "import pandas as pd\n",
    "from pycats.checkers import when_need_anti_parasitic\n",
    "\n",
    "GREEN_LIGHT = \"#51ff00\"\n",
    "YELLOW = \"#fffb00\"\n",
    "COLOR_TEXT = \"#0e78e3\"\n",
    "BOLD = \"bold\"\n",
    "COLOR_BACKGROUND = \"#001496\"\n",
    "\n",
    "def plot_anti_parasitic_timeline(*, cats: Cats):\n",
    "    fig, ax = plt.subplots(figsize=(12, 3 * len(cats.names)))  # Ajustamos el tamaño para que todas las líneas se vean bien.\n",
    "    \n",
    "    # Definir un espaciado vertical para cada gato\n",
    "    y_positions = list(range(len(cats.names)))  # Usaremos esto para posicionar las líneas horizontales\n",
    "\n",
    "    for i, cat in enumerate(cats.iter_cats()):\n",
    "        df = pd.DataFrame([{\n",
    "            'date': anti_parasitic.date,\n",
    "            'next_anti_parasitic': when_need_anti_parasitic(cat=cat)\n",
    "        } for anti_parasitic in cat.anti_parasitic])\n",
    "        \n",
    "        # Graficamos la línea horizontal para cada gato\n",
    "        ax.hlines(y=y_positions[i], xmin=df['date'].min(), xmax=df['next_anti_parasitic'].max(), color=cat.color_hex, linewidth=2)\n",
    "        \n",
    "        # Líneas verticales verdes claras para las últimas fechas de desparasitación\n",
    "        for date in df['date']:\n",
    "            ax.vlines(x=date, ymin=y_positions[i] - 0.1, ymax=y_positions[i] + 0.1, color=GREEN_LIGHT, linestyle='-', linewidth=2, label=f'{cat.name} - Última desparasitación' if i == 0 else \"\")\n",
    "        \n",
    "        # Círculos amarillos grandes para las próximas desparasitaciones\n",
    "        ax.plot(df['next_anti_parasitic'], [y_positions[i]] * len(df), 'o', color=YELLOW, label=f'{cat.name} - Próxima desparasitación', markersize=12)\n",
    "        \n",
    "        # Etiquetas para la fecha con rotación leve\n",
    "        for j, (last_date, next_date) in enumerate(zip(df['date'], df['next_anti_parasitic'])):\n",
    "            ax.text(last_date, y_positions[i] + 0.1, last_date.strftime('%Y-%m-%d'), verticalalignment='center', fontsize=10, color=COLOR_TEXT, fontweight=BOLD, rotation=30)\n",
    "            ax.text(next_date, y_positions[i] + 0.1, next_date.strftime('%Y-%m-%d'), verticalalignment='center', fontsize=10, color=COLOR_TEXT, fontweight=BOLD, rotation=30)\n",
    "\n",
    "    # Eliminamos el eje y porque no lo necesitamos\n",
    "    ax.set_yticks([])\n",
    "    ax.set_yticklabels([])\n",
    "\n",
    "    # Configuración del eje x\n",
    "    ax.set_xlabel('Fecha', color=COLOR_TEXT, fontweight=BOLD)\n",
    "    ax.grid(True, which='both', axis='x', linestyle='--', linewidth=0.5, color=COLOR_TEXT)\n",
    "\n",
    "    # Estilo de los ejes y fondo\n",
    "    ax.spines['top'].set_color(COLOR_TEXT)\n",
    "    ax.spines['bottom'].set_color(COLOR_TEXT)\n",
    "    ax.spines['left'].set_color(COLOR_TEXT)\n",
    "    ax.spines['right'].set_color(COLOR_TEXT)\n",
    "    \n",
    "    fig.patch.set_facecolor(COLOR_BACKGROUND)\n",
    "    ax.set_facecolor(COLOR_BACKGROUND)\n",
    "    \n",
    "    plt.xticks(rotation=45, color=COLOR_TEXT, fontweight=BOLD)\n",
    "    \n",
    "    plt.tight_layout()\n",
    "    plt.savefig(\"plots/anti_parasitic.png\")\n",
    "    plt.show()\n",
    "\n",
    "cats = get_cats()\n",
    "plot_anti_parasitic_timeline(cats=cats)"
   ]
  },
  {
   "cell_type": "code",
   "execution_count": null,
   "metadata": {},
   "outputs": [],
   "source": []
  }
 ],
 "metadata": {
  "kernelspec": {
   "display_name": "env",
   "language": "python",
   "name": "python3"
  },
  "language_info": {
   "codemirror_mode": {
    "name": "ipython",
    "version": 3
   },
   "file_extension": ".py",
   "mimetype": "text/x-python",
   "name": "python",
   "nbconvert_exporter": "python",
   "pygments_lexer": "ipython3",
   "version": "3.12.4"
  }
 },
 "nbformat": 4,
 "nbformat_minor": 2
}
